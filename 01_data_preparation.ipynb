{
 "cells": [
  {
   "cell_type": "markdown",
   "metadata": {},
   "source": [
    "\n",
    "<img align=\"left\" src=https://www.if.ufrj.br/wp-content/themes/img/if.png         width=120 style=\"padding: 30px\"> \n",
    "<img align=\"left\" src=https://ufrj.br/wp-content/uploads/2024/02/cor-vertical.png width=100 style=\"padding: 30px\"> <br>\n",
    "\n",
    "# 7a Escola de Física Experimental da UFRJ  \n",
    "## Medidas de redshifts de galáxias em levantamentos cosmológicos usando técnicas de aprendizado de máquina \n",
    "\n"
   ]
  },
  {
   "cell_type": "markdown",
   "metadata": {},
   "source": [
    "Professores:   \n",
    "- Bruno Moraes\n",
    "- Julia Gschwend (julia@linea.org.br)\n",
    "\n",
    "Última verificação: 18/02/2025\n",
    "\n",
    "***"
   ]
  },
  {
   "cell_type": "markdown",
   "metadata": {},
   "source": [
    "## Introdução "
   ]
  },
  {
   "cell_type": "markdown",
   "metadata": {},
   "source": [
    "Este notebook contém a primeira parte da atividade prática da oficina \"_Medidas de redshifts de galáxias em levantamentos cosmológicos usando técnicas de aprendizado de máquina_\", oferecida na 7a Escola de Física Experimental da UFRJ. O material completo está disponível no repositório [efex7-ufrj-photoz](https://github.com/linea-users/efex7-ufrj-photoz) no GitHub."
   ]
  },
  {
   "cell_type": "markdown",
   "metadata": {},
   "source": [
    "### Sobre o LIneA \n",
    "\n",
    "<img align=\"left\" src=https://www.linea.org.br/brand/linea-logo-color.svg         width=120 style=\"padding: 20px\">\n",
    "O Laboratório Interinstitucional de e-Astronomia (LIneA) é um laboratório multiusuário apoiado pelo governo federal através do Ministério da Ciência, Tecnologia e Inovação, sem vínculo com nenhuma instituição de pesquisa em particular. Nossa missão é apoiar a comunidade astronômica nacional com infraestrutura computacional e expertise em análise de big data, fornecendo condições técnicas para participação brasileira em grandes levantamentos, como o Sloan Digital Sky Survey (SDSS), Dark Energy Survey (DES) e Legacy Survey of Space and Time (LSST). "
   ]
  },
  {
   "cell_type": "markdown",
   "metadata": {},
   "source": [
    "Para saber mais, acesse o nosso site **https://linea.org.br**, ou visite nosso canal no YouTube ([**@linea_org**](https://www.youtube.com/@linea_org)) e os nossos perfis nas redes sociais. Confira abaixo a nossa trilogia de vídeos institucionais curtos sobre o LIneA, o LSST IDAC-Brasil, e o INCT do e-Universo:  "
   ]
  },
  {
   "cell_type": "code",
   "execution_count": null,
   "metadata": {
    "jupyter": {
     "source_hidden": true
    },
    "scrolled": true
   },
   "outputs": [],
   "source": [
    "%%html \n",
    "<!DOCTYPE html>\n",
    "<html lang=\"en\">\n",
    "<head>\n",
    "    <meta charset=\"UTF-8\">\n",
    "    <meta name=\"viewport\" content=\"width=device-width, initial-scale=1.0\">\n",
    "    <title>Video Grid</title>\n",
    "    <style>\n",
    "        .grid-container {\n",
    "            display: grid;\n",
    "            grid-template-columns: repeat(3, 1fr); /* Creates 3 equal columns */\n",
    "            gap: 10px; /* Adjust spacing between grid items */\n",
    "            padding: 10px;\n",
    "        }\n",
    "\n",
    "        .grid-item {\n",
    "            position: relative; /* For aspect ratio handling */\n",
    "            padding-bottom: 56.25%; /* 16:9 aspect ratio (9 / 16 * 100) */\n",
    "            height: 0;\n",
    "            overflow: hidden;\n",
    "        }\n",
    "\n",
    "        .grid-item iframe {\n",
    "            position: absolute;\n",
    "            top: 0;\n",
    "            left: 0;\n",
    "            width: 100%;\n",
    "            height: 100%;\n",
    "        }\n",
    "    </style>\n",
    "</head>\n",
    "<body>\n",
    "\n",
    "<div class=\"grid-container\">\n",
    "    <div class=\"grid-item\">\n",
    "        <iframe width=\"560\" height=\"315\" src=\"https://www.youtube.com/embed/4oiEKtzTkTA?si=mepeI8-Th0chWsQe\" title=\"YouTube video player\" frameborder=\"0\" allow=\"accelerometer; autoplay; clipboard-write; encrypted-media; gyroscope; picture-in-picture; web-share\" referrerpolicy=\"strict-origin-when-cross-origin\" allowfullscreen></iframe>\n",
    "    </div>\n",
    "    <div class=\"grid-item\">\n",
    "        <iframe width=\"560\" height=\"315\" src=\"https://www.youtube.com/embed/j0NCNa2-u8E?si=SDvlxAnR-0mKquU-\" title=\"YouTube video player\" frameborder=\"0\" allow=\"accelerometer; autoplay; clipboard-write; encrypted-media; gyroscope; picture-in-picture; web-share\" referrerpolicy=\"strict-origin-when-cross-origin\" allowfullscreen></iframe>\n",
    "    </div>\n",
    "    <div class=\"grid-item\">\n",
    "        <iframe width=\"560\" height=\"315\" src=\"https://www.youtube.com/embed/TX61BMryKbo?si=bH-RQ4tvcVbgGY6v\" title=\"YouTube video player\" frameborder=\"0\" allow=\"accelerometer; autoplay; clipboard-write; encrypted-media; gyroscope; picture-in-picture; web-share\" referrerpolicy=\"strict-origin-when-cross-origin\" allowfullscreen></iframe>\n",
    "    </div>\n",
    "</div>\n",
    "\n",
    "</body>\n",
    "</html>"
   ]
  },
  {
   "cell_type": "markdown",
   "metadata": {},
   "source": [
    "### Sobre o JupyterHub\n",
    "\n",
    "O LIneA JupyterHub ([**jupyter.linea.org.br**](https://jupyter.linea.org.br)) é um serviço gratuito de acesso remoto a um ambiente de desenvolvimento de software e análise exploratória de dados conectado a um banco de dados Postgres que contém acervos de dados astronômicos, públicos e privados, e que está integrado a outras ferramentas de análise e visualização de dados, como o Sky Viwer, Target Viewer e User Query. \n",
    "\n",
    "Os usuários do serviço contam com a ajuda de especialistas em TI e em dados astronômicos através do e-mail [**helpdesk.linea.org.br**](mailto:helpdesk.linea.org.br).  \n",
    "\n",
    "Neste notebook você encontrará todas as instruções necessárias para a realização da oficina no JupyterHub. Para outras aplicações, uma série de tutoriais está disponível no repositório Git [**jupyterhub-tutorial**](https://github.com/linea-it/jupyterhub-tutorial). "
   ]
  },
  {
   "cell_type": "markdown",
   "metadata": {},
   "source": [
    "#### Bibliotecas\n",
    "\n",
    "A maioria das bibliotecas Python necessárias para executar este notebook já vem instaladas por _default_ no ambiente. Para instalar as demais (ex.:`astropy`), basta executar a célula abaixo. OBS: a instalação é válida apenas para esta sessão no kernel Python 3 (ipykernel).  "
   ]
  },
  {
   "cell_type": "code",
   "execution_count": null,
   "metadata": {
    "scrolled": true
   },
   "outputs": [],
   "source": [
    "! pip install -r requirements.txt"
   ]
  },
  {
   "cell_type": "code",
   "execution_count": null,
   "metadata": {},
   "outputs": [],
   "source": [
    "import numpy as np\n",
    "import pandas as pd\n",
    "import matplotlib.pyplot as plt\n",
    "import seaborn as sns\n",
    "from astropy import units as u\n",
    "from astropy.coordinates import SkyCoord\n",
    "import skyproj\n",
    "import dblinea \n",
    "import warnings\n",
    "warnings.filterwarnings('ignore')"
   ]
  },
  {
   "cell_type": "markdown",
   "metadata": {},
   "source": [
    "## Dados   "
   ]
  },
  {
   "cell_type": "markdown",
   "metadata": {},
   "source": [
    "#### Sobre os dados\n",
    "\n",
    "Nesta atividade, usaremos um conjunto de dados previamente combinado e parcialmente tratado, composto por catálogos que foram disponibilizados publicamente pelos seus levantamentos de origem. Estes dados foram obtidos a partir de dois métodos observacionais diferentes: a fotometria e a espectroscopia. \n",
    "\n",
    "As grandezas físicas que vamos utilizar no exemplo de aplicação de métodos de aprendizagem de máquina são as magnitudes aparentes e seus respectivos erros, cumprindoo papel de atributos observáveis (ou _features_) que usaremos para treinar o modelo de aprendizagem de máquina, e o _redshift_ (z), no papel de alvo a ser estimado (ou _target_). \n",
    "\n",
    "##### Magnitude aparente \n",
    "\n",
    "A magnitude é uma medida adimensional baseada em escala logaritmica associada à quantidade de energia luminosa que viaja a partir de uma fonte celeste e atinge o sensor do telescópio. A magnitude possui uma escala invertida ao brilho. Objetos mais brilhantes tem magnitudes menores. A magnitude absoluta quantifica o brilho intrínseco de um objeto e a magnitude aparente (a que conseguimos medir diretamente), é influenciada pela distância do objeto ao observador. \n",
    "\n",
    "##### Redshift \n",
    "\n",
    "O _redshift_ (z) é o desvio para o vermelho causado pelo efeito doppler cosmológico, que pode ser medido diretamente e utilizado para estimar distâncias de objetos extragalácticos.  \n"
   ]
  },
  {
   "cell_type": "markdown",
   "metadata": {},
   "source": [
    "##### Dados fotométricos \n",
    "\n",
    "Os dados fotométricos são oriundos do [Dark Energy Survey (DES)](https://www.darkenergysurvey.org/), um levantamento fotométrico em 5 bandas do óptico ao infravermelho (_grizY_) que tem como principal objetivo a determinação da equação de estado da energia escura. O DES observou ~700 milhões de objetos detectados em ~5000 graus quadrados no hemisfério sul durante 6 anos. Os artigos com os principais resultados da análise dos dados dos três primeiros anos de observação estão disponíveis [nesta página](https://www.darkenergysurvey.org/des-year-3-cosmology-results-papers/).  \n",
    "\n",
    "<img align=\"center\" src=https://www.darkenergysurvey.org/wp-content/uploads/2021/06/dr2_footprint.png  width=500 style=\"padding: 20px\"> <br> \n",
    "Figura: Footprint Data Release 2 (fonte: [www.darkenergysurvey.org](https://www.darkenergysurvey.org/wp-content/uploads/2021/06/dr2_footprint.png)).  \n",
    "\n",
    "O [segundo _data release_ (DR2)](https://des.ncsa.illinois.edu/releases/dr2), já contendo os dados dos seis anos de observação, está disponível para público e pode ser acessado pelo [LIneA Science Server](https://scienceserver.linea.org.br) ou aqui pelo JupyterHub, como veremos a seguir. Os artigos finais utilizando os dados dos 6 anos ainda estão em preparação.\n",
    "\n",
    "Os dados que vamos utilizar já foram extraídos das imagens do céu, pré-processados e disponibilizados de forma tabular no banco de dados. Os atributos observáveis (ou _features_) que usaremos para treinar o modelo de aprendizagem de máquina serão as magnitudes* aparentes nas 5 bandas _grizY_ e seus respectivos erros. \n"
   ]
  },
  {
   "cell_type": "markdown",
   "metadata": {},
   "source": [
    "##### Dados espectroscópicos \n",
    "\n",
    "Para treinar os algoritmos de aprendizado supervisionado de máquina, precisamos fornecer medidas conhecidas (ou _labels_) da variável que estamos tentando calcular, neste caso, de _redshift_, de um subconjunto dos dados. Para isto, vamos utilizar dados obtidos de levantamentos espectroscópicos (spec-z) que, devido a sua enorme precisão quando comparada à fotometria, são considerados como valores \"verdadeiros\", ou seja, com erros nulos. \n",
    "\n",
    "As medidas de spec-z que vamos utilizar estão disponíveis em um catálogo, já associado aos dados fotométricos do DES, que foi produzido como parte da contribuição do LIneA para o projeto. A equipe de cientistas de dados do LIneA fez a curadoria das medidas de spec-z dos principais levantamentos disponíveis até o último ano de observações do DES (28 levantamentos) e montou um catálogo único de spec-zs, com dados limpos e homogeneizados. Esses dados foram associados às galáxias do DES através das posições em coordenadas equatoriais (R.A. e Dec.) através da técnica conhecida como _spatial cross-matching_. Este catálogo foi utilizado para alimentar os conjuntos de treinamento utilizados na produção de medidas de redshift fotométrico (photo-z) que estão sendo utilizadas nos artigos de cosmologia em preparação.  "
   ]
  },
  {
   "cell_type": "markdown",
   "metadata": {},
   "source": [
    "<img align=\"center\" src=https://dev.linea.org.br/~julia/specz_spatial_dist.png  width=500 style=\"padding: 20px\"><img align=\"center\" src=https://dev.linea.org.br/~julia/specz_matched_spatial_dist.png width=500 style=\"padding: 20px\">  \n",
    "\n",
    "Na figura acima observamos a distribuição espacial heterogênea resultante da combinação de várias fontes de dados espectroscópicos da literatura. No segundo mapa, vemos em destaque as medidas de spec-z que caem dentro da regição observada pelo DES (_footprint_). A caracterização completa desta amostra está disponível na [área de contribuição dos usuários](https://github.com/linea-it/jupyterhub-tutorial/blob/main/users-notebooks/spectroscopic-redshifts.ipynb), no mesmo repositório dos tutoriais do LIneA JupyterHub. "
   ]
  },
  {
   "cell_type": "markdown",
   "metadata": {},
   "source": [
    "#### Acesso ao banco de dados"
   ]
  },
  {
   "cell_type": "markdown",
   "metadata": {},
   "source": [
    "Dentro da plataforma LIneA JupyterHub, o acesso ao banco de dados é feito através da biblioteca [dblinea](https://github.com/linea-it/dblinea). Confira a documentação completa da biblioteca [neste link](https://dblinea.readthedocs.io/en/latest/index.html).\n",
    "\n",
    "A classe `DBBase` faz a conexão com o banco de dados e oferece algumas funcionalidades como veremos a seguir. Nos exemplos abaixo, vamos utilizar o objeto `db` para acessar os dados e metadados das tabelas  \"**main**\" (fotometria pura) e \"**public_pz_training_set**\" (fotometria e espectroscopia). Ambas fazem parte do segundo _release_ (**DR2**) do levantamento **DES**. "
   ]
  },
  {
   "cell_type": "code",
   "execution_count": null,
   "metadata": {},
   "outputs": [],
   "source": [
    "from dblinea import DBBase\n",
    "db = DBBase() "
   ]
  },
  {
   "cell_type": "markdown",
   "metadata": {},
   "source": [
    "Nomes das 215 colunas presentes na tabela \"**main**\":  "
   ]
  },
  {
   "cell_type": "code",
   "execution_count": null,
   "metadata": {
    "tags": []
   },
   "outputs": [],
   "source": [
    "print(db.get_table_columns(tablename='main', schema='des_dr2')) "
   ]
  },
  {
   "cell_type": "markdown",
   "metadata": {},
   "source": [
    "Nomes das 18 colunas presentes na tabela  \"**public_pz_training_set**\":  "
   ]
  },
  {
   "cell_type": "code",
   "execution_count": null,
   "metadata": {
    "tags": []
   },
   "outputs": [],
   "source": [
    "print(db.get_table_columns(tablename='public_pz_training_set', schema='des_dr2')) "
   ]
  },
  {
   "cell_type": "markdown",
   "metadata": {},
   "source": [
    "Tipos de dados armazenados em cada coluna: "
   ]
  },
  {
   "cell_type": "code",
   "execution_count": null,
   "metadata": {
    "scrolled": true,
    "tags": []
   },
   "outputs": [],
   "source": [
    "db.describe_table(tablename='public_pz_training_set', schema='des_dr2')"
   ]
  },
  {
   "cell_type": "markdown",
   "metadata": {},
   "source": [
    "A tabela abaixo traz a descrição das colunas que vamos utilizar neste _notebook_. \n",
    "\n",
    "|Coluna | Descrição |\n",
    "|---|---|\n",
    "|RA | Abreviação de _Right Ascension_, coordenada celeste equatorial no sistema J2000 (unidade: graus)|\n",
    "|DEC | Abreviação de _Declination_, coordenada celeste equatorial no sistema J2000 (unidade: graus)   |\n",
    "|MAG_AUTO_{G,R,I,Z,Y}_DERED | Medida de magnitude aparente corrigida do avermelhamento da Galáxia (adimensional) |\n",
    "|MAGERR_AUTO_{G,R,I,Z,Y}    | Incerteza na medida de magnitude aparente (adimensional) |\n",
    "|z | Medida de _redshift_ espectroscópico |\n",
    "|survey | Nome do levantamento espectroscópico que realizou a medida de _redshift_ |\n",
    "\n"
   ]
  },
  {
   "cell_type": "markdown",
   "metadata": {},
   "source": [
    "Para esta atividade, para trabalharmos com uma amostra homogênea e com uma distribuição N(z) pouco ruidosa, vamos selecionar apenas dados do levantamento [VVDS](https://cesam.lam.fr/cesamdata/project_desc/vvds_index.html) ([Le Fèvre et al. 2004](https://ui.adsabs.harvard.edu/abs/2004A%26A...428.1043L/abstract), [Garilli et al. 2008](https://ui.adsabs.harvard.edu/abs/2008A%26A...486..683G/abstract)) para treinar e testar os modelos.   "
   ]
  },
  {
   "cell_type": "markdown",
   "metadata": {},
   "source": [
    "A função `fetchall_df(query)` faz a consulta no banco de dados e retorna um objeto do tipo [**pandas.DataFrame**](https://pandas.pydata.org/docs/reference/api/pandas.DataFrame.html) "
   ]
  },
  {
   "cell_type": "code",
   "execution_count": null,
   "metadata": {},
   "outputs": [],
   "source": [
    "query_spec_sample = \"\"\"\n",
    "                        SELECT\n",
    "                            ra, dec, z, \n",
    "                            mag_auto_g_dered, mag_auto_r_dered, mag_auto_i_dered, mag_auto_z_dered, mag_auto_y_dered,  \n",
    "                            magerr_auto_g, magerr_auto_r, magerr_auto_i, magerr_auto_z, magerr_auto_y  \n",
    "                        FROM\n",
    "                            des_dr2.public_pz_training_set\n",
    "                        WHERE\n",
    "                            survey = 'VVDS' \n",
    "                        AND \n",
    "                            magerr_auto_g != 99.0 \n",
    "                        AND \n",
    "                            magerr_auto_r != 99.0\n",
    "                        AND \n",
    "                            magerr_auto_i != 99.0\n",
    "                        AND \n",
    "                            magerr_auto_z != 99.0\n",
    "                        AND \n",
    "                            magerr_auto_y != 99.0\n",
    "                        AND \n",
    "                            z <= 2.0 \n",
    "                    \"\"\""
   ]
  },
  {
   "cell_type": "code",
   "execution_count": null,
   "metadata": {
    "tags": []
   },
   "outputs": [],
   "source": [
    "%%time\n",
    "df_spec_sample = db.fetchall_df(query_spec_sample)\n",
    "df_spec_sample"
   ]
  },
  {
   "cell_type": "code",
   "execution_count": null,
   "metadata": {},
   "outputs": [],
   "source": [
    "df_spec_sample.info()"
   ]
  },
  {
   "cell_type": "code",
   "execution_count": null,
   "metadata": {},
   "outputs": [],
   "source": [
    "df_spec_sample.describe()"
   ]
  },
  {
   "cell_type": "markdown",
   "metadata": {},
   "source": [
    "Salvando os dados em arquivo "
   ]
  },
  {
   "cell_type": "code",
   "execution_count": null,
   "metadata": {},
   "outputs": [],
   "source": [
    "df_spec_sample.to_csv('data/des_match_vvds_clean.csv')"
   ]
  },
  {
   "cell_type": "markdown",
   "metadata": {},
   "source": [
    "### Caracterização das amostras "
   ]
  },
  {
   "cell_type": "markdown",
   "metadata": {},
   "source": [
    "#### Distribuição espacial \n"
   ]
  },
  {
   "cell_type": "code",
   "execution_count": null,
   "metadata": {
    "tags": []
   },
   "outputs": [],
   "source": [
    "coords = SkyCoord(ra=-np.array(df_spec_sample.ra)*u.degree, dec=np.array(df_spec_sample.dec)*u.degree, frame='icrs')"
   ]
  },
  {
   "cell_type": "code",
   "execution_count": null,
   "metadata": {},
   "outputs": [],
   "source": [
    "fig = plt.figure(1, figsize=(8, 6))\n",
    "ax = fig.add_subplot(111)\n",
    "sp = skyproj.DESSkyproj(ax=ax)\n",
    "sp.draw_des(label='DES footprint', edgecolor='darkorange', lw=1)\n",
    "ra_rad = coords.ra.wrap_at(180 * u.deg).radian\n",
    "dec_rad = coords.dec.radian\n",
    "plt.plot(ra_rad, dec_rad, '.', alpha=0.3, label='VVDS')\n",
    "org=0.0\n",
    "tick_labels = np.array([150, 120, 90, 60, 30, 0, 330, 300, 270, 240, 210])\n",
    "tick_labels = np.remainder(tick_labels+360+org,360)\n",
    "sp.legend()\n",
    "plt.tight_layout()"
   ]
  },
  {
   "cell_type": "markdown",
   "metadata": {},
   "source": [
    "#### Distribuição de redshifts"
   ]
  },
  {
   "cell_type": "code",
   "execution_count": null,
   "metadata": {},
   "outputs": [],
   "source": [
    "fig = plt.figure(figsize=[8,4])\n",
    "sns.histplot(df_spec_sample['z'], stat='density', bins=30)\n",
    "#sns.kdeplot(df_spec_sample['z'], fill=False, color='red')\n",
    "plt.xlabel('spec-z', fontsize=11)\n",
    "plt.tight_layout()"
   ]
  },
  {
   "cell_type": "markdown",
   "metadata": {},
   "source": [
    "#### Distribuição de magnitudes"
   ]
  },
  {
   "cell_type": "code",
   "execution_count": null,
   "metadata": {},
   "outputs": [],
   "source": [
    "fig = plt.figure(figsize=[18,4])\n",
    "bands = ['g', 'r', 'i', 'z', 'y']  \n",
    "for i, band in enumerate(bands): \n",
    "    plt.subplot(1,5,i+1)\n",
    "    sns.histplot(df_spec_sample[f'mag_auto_{band}_dered'], stat='density', bins=30)\n",
    "    #sns.kdeplot(df_spec_sample[f'mag_auto_{band}_dered'], fill=False, color='red')\n",
    "    plt.xlabel(f'{band}-band magnitude', fontsize=11)\n",
    "plt.tight_layout()"
   ]
  },
  {
   "cell_type": "markdown",
   "metadata": {},
   "source": [
    "#### Diagrama z-mag"
   ]
  },
  {
   "cell_type": "code",
   "execution_count": null,
   "metadata": {},
   "outputs": [],
   "source": [
    "fig = plt.figure(figsize=[10,4])\n",
    "sns.scatterplot(data=df_spec_sample, x='z', y='mag_auto_i_dered', label='train')\n",
    "plt.xlabel('spec-z', fontsize=12)\n",
    "plt.ylabel('i-band magnitude', fontsize=12)\n",
    "plt.legend()\n",
    "plt.tight_layout()"
   ]
  },
  {
   "cell_type": "markdown",
   "metadata": {},
   "source": [
    "#### [opcional] Comparação com a amostra fotométrica "
   ]
  },
  {
   "cell_type": "code",
   "execution_count": null,
   "metadata": {},
   "outputs": [],
   "source": [
    "query_photo_sample = \"\"\"\n",
    "                        SELECT\n",
    "                            ra, dec,  \n",
    "                            mag_auto_g_dered, mag_auto_r_dered, mag_auto_i_dered, mag_auto_z_dered, mag_auto_y_dered,  \n",
    "                            magerr_auto_g, magerr_auto_r, magerr_auto_i, magerr_auto_z, magerr_auto_y  \n",
    "                        FROM\n",
    "                            des_dr2.main\n",
    "                        WHERE \n",
    "                            magerr_auto_i <= 0.1 \n",
    "                        AND \n",
    "                            magerr_auto_g != 99.0 \n",
    "                        AND \n",
    "                            magerr_auto_r != 99.0\n",
    "                        AND \n",
    "                            magerr_auto_i != 99.0\n",
    "                        AND \n",
    "                            magerr_auto_z != 99.0\n",
    "                        AND \n",
    "                            magerr_auto_y != 99.0\n",
    "                        AND\n",
    "                            extended_class_coadd = 3\n",
    "                        LIMIT 1000000\n",
    "                    \"\"\""
   ]
  },
  {
   "cell_type": "code",
   "execution_count": null,
   "metadata": {
    "scrolled": true,
    "tags": []
   },
   "outputs": [],
   "source": [
    "%%time\n",
    "df_photo_sample = db.fetchall_df(query_photo_sample)\n",
    "df_photo_sample"
   ]
  },
  {
   "cell_type": "code",
   "execution_count": null,
   "metadata": {},
   "outputs": [],
   "source": [
    "fig = plt.figure(figsize=[18,4])\n",
    "bands = ['g', 'r', 'i', 'z', 'y']  \n",
    "for i, band in enumerate(bands): \n",
    "    plt.subplot(1,5,i+1)\n",
    "    sns.histplot(df_spec_sample[f'mag_auto_{band}_dered'], stat='density', bins=30, label='spec')\n",
    "    sns.kdeplot(df_photo_sample[f'mag_auto_{band}_dered'], fill=False, color='red', label='photo')\n",
    "    plt.xlabel(f'{band}-band magnitude', fontsize=11)\n",
    "    plt.legend()\n",
    "plt.tight_layout()"
   ]
  },
  {
   "cell_type": "code",
   "execution_count": null,
   "metadata": {
    "tags": []
   },
   "outputs": [],
   "source": [
    "photo_coords = SkyCoord(ra=-np.array(df_photo_sample.ra)*u.degree, dec=np.array(df_photo_sample.dec)*u.degree, frame='icrs')"
   ]
  },
  {
   "cell_type": "code",
   "execution_count": null,
   "metadata": {},
   "outputs": [],
   "source": [
    "fig = plt.figure(1, figsize=(8, 6))\n",
    "ax = fig.add_subplot(111)\n",
    "sp = skyproj.DESSkyproj(ax=ax)\n",
    "sp.draw_des(label='DES footprint', edgecolor='darkorange', lw=1)\n",
    "ra_rad = photo_coords.ra.wrap_at(180 * u.deg).radian\n",
    "dec_rad = photo_coords.dec.radian\n",
    "plt.plot(ra_rad, dec_rad, '.', alpha=0.3, label='DES')\n",
    "org=0.0\n",
    "tick_labels = np.array([150, 120, 90, 60, 30, 0, 330, 300, 270, 240, 210])\n",
    "tick_labels = np.remainder(tick_labels+360+org,360)\n",
    "sp.legend()\n",
    "plt.tight_layout()"
   ]
  },
  {
   "cell_type": "code",
   "execution_count": null,
   "metadata": {},
   "outputs": [],
   "source": []
  }
 ],
 "metadata": {
  "kernelspec": {
   "display_name": "Python 3 (ipykernel)",
   "language": "python",
   "name": "python3"
  },
  "language_info": {
   "codemirror_mode": {
    "name": "ipython",
    "version": 3
   },
   "file_extension": ".py",
   "mimetype": "text/x-python",
   "name": "python",
   "nbconvert_exporter": "python",
   "pygments_lexer": "ipython3",
   "version": "3.11.10"
  }
 },
 "nbformat": 4,
 "nbformat_minor": 4
}
