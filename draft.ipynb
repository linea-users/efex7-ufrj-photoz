{
 "cells": [
  {
   "cell_type": "markdown",
   "metadata": {},
   "source": [
    "\n",
    "<img align=\"left\" src=https://www.if.ufrj.br/wp-content/themes/img/if.png         width=120 style=\"padding: 30px\"> \n",
    "<img align=\"left\" src=https://ufrj.br/wp-content/uploads/2024/02/cor-vertical.png width=100 style=\"padding: 30px\"> <br>\n",
    "\n",
    "# 7a Escola de Física Experimental da UFRJ  \n",
    "## Medidas de redshifts de galáxias em levantamentos cosmológicos usando técnicas de aprendizado de máquina \n",
    "\n"
   ]
  },
  {
   "cell_type": "markdown",
   "metadata": {},
   "source": [
    "Professores:   \n",
    "- Bruno Moraes (email)\n",
    "- Julia Gschwend (julia@linea.org.br)\n",
    "\n",
    "Última verificação: 14/02/2025\n",
    "\n",
    "***"
   ]
  },
  {
   "cell_type": "markdown",
   "metadata": {},
   "source": [
    "## Introdução "
   ]
  },
  {
   "cell_type": "code",
   "execution_count": null,
   "metadata": {},
   "outputs": [],
   "source": []
  },
  {
   "cell_type": "markdown",
   "metadata": {},
   "source": [
    "### Sobre a oficina"
   ]
  },
  {
   "cell_type": "code",
   "execution_count": null,
   "metadata": {},
   "outputs": [],
   "source": []
  },
  {
   "cell_type": "markdown",
   "metadata": {},
   "source": [
    "### Sobre o LIneA \n",
    "\n",
    "<img align=\"left\" src=https://www.linea.org.br/brand/linea-logo-color.svg         width=120 style=\"padding: 20px\">\n",
    "O Laboratório Interinstitucional de e-Astronomia (LIneA) é um laboratório multiusuário apoiado pelo governo federal através do Ministério da Ciência, Tecnologia e Inovação, sem vínculo com nenhuma unidade de pesquisa em particular. Nossa missão é apoiar a comunidade astronômica nacional com infraestrutura computacional e expertise em análise de big data, fornecendo condições técnicas para participação brasileira em grandes levantamentos, como o Sloan Digital Sky Survey (SDSS), Dark Energy Survey (DES) e Legacy Survey of Space and Time (LSST). "
   ]
  },
  {
   "cell_type": "markdown",
   "metadata": {},
   "source": [
    "Para saber mais, acesse o nosso site **https://linea.org.br**, ou visite nosso canal no YouTube ([**@linea_org**](https://www.youtube.com/@linea_org)) e os nossos perfis nas redes sociais. Confira abaixo a nossa trilogia de vídeos institucionais curtos sobre o LIneA, o LSST IDAC-Brasil, e o INCT do e-Universo:  "
   ]
  },
  {
   "cell_type": "code",
   "execution_count": null,
   "metadata": {
    "jupyter": {
     "source_hidden": true
    },
    "scrolled": true
   },
   "outputs": [],
   "source": [
    "%%html \n",
    "<!DOCTYPE html>\n",
    "<html lang=\"en\">\n",
    "<head>\n",
    "    <meta charset=\"UTF-8\">\n",
    "    <meta name=\"viewport\" content=\"width=device-width, initial-scale=1.0\">\n",
    "    <title>Video Grid</title>\n",
    "    <style>\n",
    "        .grid-container {\n",
    "            display: grid;\n",
    "            grid-template-columns: repeat(3, 1fr); /* Creates 3 equal columns */\n",
    "            gap: 10px; /* Adjust spacing between grid items */\n",
    "            padding: 10px;\n",
    "        }\n",
    "\n",
    "        .grid-item {\n",
    "            position: relative; /* For aspect ratio handling */\n",
    "            padding-bottom: 56.25%; /* 16:9 aspect ratio (9 / 16 * 100) */\n",
    "            height: 0;\n",
    "            overflow: hidden;\n",
    "        }\n",
    "\n",
    "        .grid-item iframe {\n",
    "            position: absolute;\n",
    "            top: 0;\n",
    "            left: 0;\n",
    "            width: 100%;\n",
    "            height: 100%;\n",
    "        }\n",
    "    </style>\n",
    "</head>\n",
    "<body>\n",
    "\n",
    "<div class=\"grid-container\">\n",
    "    <div class=\"grid-item\">\n",
    "        <iframe width=\"560\" height=\"315\" src=\"https://www.youtube.com/embed/4oiEKtzTkTA?si=mepeI8-Th0chWsQe\" title=\"YouTube video player\" frameborder=\"0\" allow=\"accelerometer; autoplay; clipboard-write; encrypted-media; gyroscope; picture-in-picture; web-share\" referrerpolicy=\"strict-origin-when-cross-origin\" allowfullscreen></iframe>\n",
    "    </div>\n",
    "    <div class=\"grid-item\">\n",
    "        <iframe width=\"560\" height=\"315\" src=\"https://www.youtube.com/embed/j0NCNa2-u8E?si=SDvlxAnR-0mKquU-\" title=\"YouTube video player\" frameborder=\"0\" allow=\"accelerometer; autoplay; clipboard-write; encrypted-media; gyroscope; picture-in-picture; web-share\" referrerpolicy=\"strict-origin-when-cross-origin\" allowfullscreen></iframe>\n",
    "    </div>\n",
    "    <div class=\"grid-item\">\n",
    "        <iframe width=\"560\" height=\"315\" src=\"https://www.youtube.com/embed/TX61BMryKbo?si=bH-RQ4tvcVbgGY6v\" title=\"YouTube video player\" frameborder=\"0\" allow=\"accelerometer; autoplay; clipboard-write; encrypted-media; gyroscope; picture-in-picture; web-share\" referrerpolicy=\"strict-origin-when-cross-origin\" allowfullscreen></iframe>\n",
    "    </div>\n",
    "</div>\n",
    "\n",
    "</body>\n",
    "</html>"
   ]
  },
  {
   "cell_type": "markdown",
   "metadata": {},
   "source": [
    "### Sobre o JupyterHub\n",
    "\n",
    "O LIneA JupyterHub ([**jupyter.linea.org.br**](https://jupyter.linea.org.br)) é um serviço gratuito de acesso remoto a um ambiente de desenvolvimento de software e análise exploratória de dados conectado a um banco de dados Postgres que contém acervos de dados astronômicos, públicos e privados, e que está integrado a outras ferramentas de análise e visualização de dados, como o Sky Viwer, Target Viewer e User Query. \n",
    "\n",
    "Os usuários do serviço contam com a ajuda de especialistas em TI e em dados astronômicos através do e-mail [**helpdesk.linea.org.br**](mailto:helpdesk.linea.org.br).  \n",
    "\n",
    "Neste notebook você encontrará todas as instruções necessárias para a realização da Oficina no JupyterHub. Para outras aplicações, uma série de tutoriais está disponível no repositório Git [**jupyterhub-tutorial**](https://github.com/linea-it/jupyterhub-tutorial). "
   ]
  },
  {
   "cell_type": "markdown",
   "metadata": {},
   "source": [
    "#### Bibliotecas\n",
    "\n",
    "A maioria das bibliotecas Python necessárias para executar este notebook já vem instaladas por _default_ no ambiente. Para instalar as demais (`dblinea`, `astropy`), basta executar a célula abaixo. OBS: a instalação é válida apenas para esta sessão no kernel Python 3 (ipykernel).  "
   ]
  },
  {
   "cell_type": "code",
   "execution_count": null,
   "metadata": {
    "scrolled": true
   },
   "outputs": [],
   "source": [
    "! pip install -r requirements.txt"
   ]
  },
  {
   "cell_type": "code",
   "execution_count": null,
   "metadata": {},
   "outputs": [],
   "source": [
    "import numpy as np\n",
    "import pandas as pd\n",
    "import matplotlib.pyplot as plt\n",
    "import seaborn as sns\n",
    "from astropy import units as u\n",
    "from astropy.coordinates import SkyCoord\n",
    "import skyproj\n",
    "import dblinea "
   ]
  },
  {
   "cell_type": "markdown",
   "metadata": {},
   "source": [
    "## Dados   "
   ]
  },
  {
   "cell_type": "markdown",
   "metadata": {},
   "source": [
    "#### Sobre os dados\n",
    "\n",
    "##### Dados fotométricos \n",
    "\n",
    "Nesta atividade, usaremos um conjunto de dados previamente combinados e parcialmente tradados, que foram obtidos de diferentes fontes. Os dados fotométricos são oriundos do [Dark Energy Survey (DES)](https://www.darkenergysurvey.org/), um levantamento fotométrico em 5 bandas do óptico ao infravermelho (_grizY_) que tem como principal objetivo a determinação da equação de estado da energia escura. O DES observou ~700 milhões de objetos detectados em ~5000 graus quadrados no hemisfério sul durante 6 anos. Os artigos com os principais resultados da análise dos dados dos três primeiros anos de observação estão disponíveis [nesta página](https://www.darkenergysurvey.org/des-year-3-cosmology-results-papers/).  \n",
    "\n",
    "<img align=\"center\" src=https://www.darkenergysurvey.org/wp-content/uploads/2021/06/dr2_footprint.png  width=500 style=\"padding: 20px\"> <br> \n",
    "Figura: Footprint Data Release 2 (fonte: [www.darkenergysurvey.org](https://www.darkenergysurvey.org/wp-content/uploads/2021/06/dr2_footprint.png)).  \n",
    "\n",
    "O [segundo _data release_ (DR2)](https://des.ncsa.illinois.edu/releases/dr2), já contendo os dados dos seis anos de observação, está disponível para público e pode ser acessado pelo [LIneA Science Server](https://scienceserver.linea.org.br) ou aqui pelo JupyterHub, como veremos a seguir. Os artigos finais utilizando os dados dos 6 anos ainda estão em preparação.\n",
    "\n",
    "Os dados que vamos utilizar já foram extraídos das imagens do céu, pré-processados e disponibilizados de forma tabular no banco de dados. "
   ]
  },
  {
   "cell_type": "markdown",
   "metadata": {},
   "source": [
    "##### Dados espectroscópicos \n",
    "\n",
    "Para treinar os algoritmos de aprendizado de máquina precisamos fornecer medidas conhecidas de **redshift (z)** de um subconjunto dos dados. Para isto, vamos utilizar dados obtidos de levantamentos espectroscópicos (spec-z) que, devido a sua enorme precisão, são considerados como valores \"verdadeiros\", ou seja, com erros nulos. \n",
    "\n",
    "As medidas de spec-z que vamos utilizar estão disponíveis em um catálogo, já combinado com os dados fotométricos do DES, que foi produzido como parte da contribuição do LIneA para o projeto. A nossa equipe de cientistas de dados fez uma curadoria das medidas de spec-z dos principais levantamentos disponíveis até o último ano de observações do DES (28 levantamentos) e montou um catálogo único de spec-zs, com dados limpos e homogeneizados, associados às galáxias do DES através das posições em coordenadas equatoriais (R.A. e Dec.). Este catálogo foi utilizado para alimentar os conjuntos de treinamento utilizados na produção de medidas de redshift fotométrico (photo-z) que estão sendo utilizadas nos artigos de cosmologia em preparação.  \n",
    "\n",
    "<img align=\"center\" src=https://dev.linea.org.br/~julia/specz_spatial_dist.png  width=500 style=\"padding: 20px\"><img align=\"center\" src=https://dev.linea.org.br/~julia/specz_matched_spatial_dist.png width=500 style=\"padding: 20px\">  \n"
   ]
  },
  {
   "cell_type": "markdown",
   "metadata": {},
   "source": [
    "#### Acesso ao banco de dados"
   ]
  },
  {
   "cell_type": "markdown",
   "metadata": {},
   "source": [
    "Dentro da plataforma LIneA JupyterHub, o acesso ao banco de dados é feito através da biblioteca [dblinea](https://github.com/linea-it/dblinea). Confira a documentação completa da biblioteca [neste link](https://dblinea.readthedocs.io/en/latest/index.html).\n",
    "\n",
    "A classe `DBBase` faz a conexão com o banco de dados e oferece algumas funcionalidades como veremos a seguir. Nos exemplos abaixo, vamos utilizar o objeto `db` para acessar os dados e metadados da tabela  \"**public_pz_training_set**\" do segundo _release_ (**DR2**) do levantamento **DES**. "
   ]
  },
  {
   "cell_type": "code",
   "execution_count": null,
   "metadata": {},
   "outputs": [],
   "source": [
    "from dblinea import DBBase\n",
    "db = DBBase() "
   ]
  },
  {
   "cell_type": "markdown",
   "metadata": {},
   "source": [
    "Nomes das colunas presentes na tabela  \"**public_pz_training_set**\":  "
   ]
  },
  {
   "cell_type": "code",
   "execution_count": null,
   "metadata": {
    "tags": []
   },
   "outputs": [],
   "source": [
    "print(db.get_table_columns(tablename='public_pz_training_set', schema='des_dr2')) "
   ]
  },
  {
   "cell_type": "markdown",
   "metadata": {},
   "source": [
    "Tipos de dados armazenados em cada coluna: "
   ]
  },
  {
   "cell_type": "code",
   "execution_count": null,
   "metadata": {
    "scrolled": true,
    "tags": []
   },
   "outputs": [],
   "source": [
    "db.describe_table(tablename='public_pz_training_set', schema='des_dr2')"
   ]
  },
  {
   "cell_type": "markdown",
   "metadata": {},
   "source": [
    "A tabela abaixo traz a descrição das colunas que vamos utilizar neste _notebook_. \n",
    "\n",
    "|Coluna | Descrição |\n",
    "|---|---|\n",
    "|RA | Abreviação de _Right Ascension_, coordenada celeste equatorial no sistema J2000 (unidade: graus)|\n",
    "|DEC | Abreviação de _Declination_, coordenada celeste equatorial no sistema J2000 (unidade: graus)   |\n",
    "|MAG_AUTO_{G,R,I,Z,Y}_DERED | Medida de magnitude aparente corrigida do avermelhamento da Galáxia (adimensional) |\n",
    "|MAGERR_AUTO_{G,R,I,Z,Y}    | Incerteza na medida de magnitude aparente (adimensional) |\n",
    "|z | Medida de _redshift_ espectroscópico |\n",
    "|survey | Nome do levantamento espectroscópico que realizou a medida de _redshift_ |\n",
    "\n"
   ]
  },
  {
   "cell_type": "markdown",
   "metadata": {},
   "source": [
    "Para esta atividade, vamos selecionar dados do levantamento [VVDS](https://cesam.lam.fr/cesamdata/project_desc/vvds_index.html) ([Le Fèvre et al. 2004](https://ui.adsabs.harvard.edu/abs/2004A%26A...428.1043L/abstract), [Garilli et al. 2008](https://ui.adsabs.harvard.edu/abs/2008A%26A...486..683G/abstract)).  \n"
   ]
  },
  {
   "cell_type": "markdown",
   "metadata": {},
   "source": [
    "A função `fetchall_df(query)` faz a consulta no banco de dados e retorna um objeto do tipo [**pandas.DataFrame**](https://pandas.pydata.org/docs/reference/api/pandas.DataFrame.html) "
   ]
  },
  {
   "cell_type": "code",
   "execution_count": null,
   "metadata": {},
   "outputs": [],
   "source": [
    "query = \"\"\"\n",
    "            SELECT\n",
    "                ra, dec, z, \n",
    "                mag_auto_g_dered, mag_auto_r_dered, mag_auto_i_dered, mag_auto_z_dered, mag_auto_y_dered,  \n",
    "                magerr_auto_g, magerr_auto_r, magerr_auto_i, magerr_auto_z, magerr_auto_y  \n",
    "            FROM\n",
    "                des_dr2.public_pz_training_set\n",
    "            WHERE\n",
    "                survey = 'VVDS' \n",
    "            AND \n",
    "                magerr_auto_g <= 0.1 \n",
    "            AND \n",
    "                magerr_auto_r <= 0.1 \n",
    "            AND \n",
    "                magerr_auto_i <= 0.1 \n",
    "            AND \n",
    "                magerr_auto_z <= 0.1 \n",
    "            AND \n",
    "                z <= 2.0 \n",
    "        \"\"\""
   ]
  },
  {
   "cell_type": "code",
   "execution_count": null,
   "metadata": {
    "scrolled": true,
    "tags": []
   },
   "outputs": [],
   "source": [
    "df = db.fetchall_df(query)\n",
    "df"
   ]
  },
  {
   "cell_type": "code",
   "execution_count": null,
   "metadata": {},
   "outputs": [],
   "source": [
    "df.info()"
   ]
  },
  {
   "cell_type": "code",
   "execution_count": null,
   "metadata": {},
   "outputs": [],
   "source": [
    "df.describe()"
   ]
  },
  {
   "cell_type": "markdown",
   "metadata": {},
   "source": [
    "#### Separação das amostras \n",
    "\n",
    "Divisão dos dados em dois subconjuntos, para treinamento e teste (ou validação). "
   ]
  },
  {
   "cell_type": "code",
   "execution_count": null,
   "metadata": {},
   "outputs": [],
   "source": [
    "# ordenação aleatória com random_state fixo para garantir a reprodutibilidade \n",
    "df_shuffled = df.sample(frac=1, random_state=42) \n",
    "\n",
    "# ponto de corte: proporção 70/30\n",
    "split_point = int(len(df)*0.7)\n",
    "\n",
    "# separa em dois subconjuntos \n",
    "train = df_shuffled.iloc[:split_point]\n",
    "test  = df_shuffled.iloc[split_point:]\n",
    "\n",
    "print(f'Os conjuntos de treinamento e teste possuem {len(train)} e {len(test)} galáxias, respectivamente.') "
   ]
  },
  {
   "cell_type": "markdown",
   "metadata": {},
   "source": [
    "### Caracterização das amostras "
   ]
  },
  {
   "cell_type": "markdown",
   "metadata": {},
   "source": [
    "#### Distribuição espacial \n"
   ]
  },
  {
   "cell_type": "code",
   "execution_count": null,
   "metadata": {
    "tags": []
   },
   "outputs": [],
   "source": [
    "coords = SkyCoord(ra=-np.array(df.ra)*u.degree, dec=np.array(df.dec)*u.degree, frame='icrs')"
   ]
  },
  {
   "cell_type": "code",
   "execution_count": null,
   "metadata": {},
   "outputs": [],
   "source": [
    "fig = plt.figure(1, figsize=(8, 6))\n",
    "ax = fig.add_subplot(111)\n",
    "sp = skyproj.DESSkyproj(ax=ax)\n",
    "sp.draw_des(label='DES', edgecolor='darkorange', lw=1)\n",
    "ra_rad = coords.ra.wrap_at(180 * u.deg).radian\n",
    "dec_rad = coords.dec.radian\n",
    "plt.plot(ra_rad, dec_rad, '.', alpha=0.3)\n",
    "org=0.0\n",
    "tick_labels = np.array([150, 120, 90, 60, 30, 0, 330, 300, 270, 240, 210])\n",
    "tick_labels = np.remainder(tick_labels+360+org,360)\n",
    "sp.legend()\n",
    "plt.tight_layout()"
   ]
  },
  {
   "cell_type": "markdown",
   "metadata": {},
   "source": [
    "#### Distribuição de redshifts"
   ]
  },
  {
   "cell_type": "code",
   "execution_count": null,
   "metadata": {},
   "outputs": [],
   "source": [
    "fig = plt.figure(figsize=[12,4])\n",
    "plt.subplot(1,3,1)\n",
    "sns.histplot(df['z'], stat='density', bins=30, label='all')\n",
    "sns.kdeplot(df['z'], fill=False, color='red')\n",
    "plt.xlabel('spec-z', fontsize=11)\n",
    "plt.legend()\n",
    "plt.subplot(1,3,2)\n",
    "plt.title('Distribuição de redshifts')\n",
    "sns.histplot(train['z'], stat='density', bins=30, label='training set')\n",
    "sns.histplot(test['z'], stat='density', bins=30, label='test set')\n",
    "plt.xlabel('spec-z', fontsize=11)\n",
    "plt.legend()\n",
    "plt.subplot(1,3,3)\n",
    "sns.histplot(train['z'], stat='count', bins=30, label='training set')\n",
    "sns.histplot(test['z'], stat='count', bins=30, label='test set')\n",
    "plt.xlabel('spec-z', fontsize=11)\n",
    "plt.legend()\n",
    "plt.tight_layout()"
   ]
  },
  {
   "cell_type": "markdown",
   "metadata": {},
   "source": [
    "#### Distribuição de magnitudes"
   ]
  },
  {
   "cell_type": "code",
   "execution_count": null,
   "metadata": {},
   "outputs": [],
   "source": [
    "fig = plt.figure(figsize=[12,4])\n",
    "plt.subplot(1,3,1)\n",
    "sns.histplot(df['mag_auto_i_dered'], stat='density', bins=30, label='all')\n",
    "sns.kdeplot(df['mag_auto_i_dered'], fill=False, color='red')\n",
    "plt.xlabel('i-band magnitude', fontsize=11)\n",
    "plt.legend()\n",
    "plt.subplot(1,3,2)\n",
    "plt.title('Distribuição de magnitudes')\n",
    "sns.histplot(train['mag_auto_i_dered'], stat='density', bins=30, label='training set')\n",
    "sns.histplot(test['mag_auto_i_dered'], stat='density', bins=30, label='test set')\n",
    "plt.xlabel('i-band magnitude', fontsize=11)\n",
    "plt.legend()\n",
    "plt.subplot(1,3,3)\n",
    "sns.histplot(train['mag_auto_i_dered'], stat='count', bins=30, label='training set')\n",
    "sns.histplot(test['mag_auto_i_dered'], stat='count', bins=30, label='test set')\n",
    "plt.xlabel('i-band magnitude', fontsize=11)\n",
    "plt.legend()\n",
    "plt.tight_layout()"
   ]
  },
  {
   "cell_type": "markdown",
   "metadata": {},
   "source": [
    "#### Diagramas cor-cor, cor-mag, z-mag"
   ]
  },
  {
   "cell_type": "code",
   "execution_count": null,
   "metadata": {},
   "outputs": [],
   "source": [
    "x = pd.Series(train['mag_auto_g_dered'] -  train['mag_auto_r_dered']) \n",
    "x"
   ]
  },
  {
   "cell_type": "code",
   "execution_count": null,
   "metadata": {},
   "outputs": [],
   "source": [
    "train.loc[:, 'gmr'] = train['mag_auto_g_dered'] - train['mag_auto_r_dered']\n",
    "train.loc[:, 'rmi'] = train['mag_auto_r_dered'] -  train['mag_auto_i_dered']\n",
    "test.loc[:, 'gmr'] = test['mag_auto_g_dered']  -  test['mag_auto_r_dered']\n",
    "test.loc[:, 'rmi'] = test['mag_auto_r_dered']  -  test['mag_auto_i_dered']"
   ]
  },
  {
   "cell_type": "code",
   "execution_count": null,
   "metadata": {},
   "outputs": [],
   "source": [
    "fig = plt.figure(figsize=[12,4])\n",
    "plt.subplot(1,3,1)\n",
    "plt.title('Diagrama cor-cor')\n",
    "sns.scatterplot(data=train, x='rmi', y='gmr', label='train')\n",
    "sns.scatterplot(data=test, x='rmi', y='gmr', label='test')\n",
    "plt.xlabel('r-i', fontsize=12)\n",
    "plt.ylabel('g-r', fontsize=12)\n",
    "plt.legend()\n",
    "plt.subplot(1,3,2)\n",
    "plt.title('Diagrama cor-magnitude')\n",
    "sns.scatterplot(data=train, x='mag_auto_i_dered', y='rmi', label='train')\n",
    "sns.scatterplot(data=test,  x='mag_auto_i_dered', y='rmi', label='test')\n",
    "plt.xlabel('i-band magnitude', fontsize=12)\n",
    "plt.ylabel('r-i', fontsize=12)\n",
    "plt.legend()\n",
    "plt.subplot(1,3,3)\n",
    "plt.title('Diagrama z-magnitude')\n",
    "sns.scatterplot(data=train, x='z', y='mag_auto_i_dered', label='train')\n",
    "sns.scatterplot(data=test, x='z', y='mag_auto_i_dered', label='test')\n",
    "plt.xlabel('spec-z', fontsize=12)\n",
    "plt.ylabel('i-band magnitude', fontsize=12)\n",
    "plt.legend()\n",
    "plt.tight_layout()"
   ]
  },
  {
   "cell_type": "markdown",
   "metadata": {},
   "source": [
    "## Photo-z"
   ]
  },
  {
   "cell_type": "code",
   "execution_count": null,
   "metadata": {},
   "outputs": [],
   "source": []
  },
  {
   "cell_type": "code",
   "execution_count": null,
   "metadata": {},
   "outputs": [],
   "source": []
  },
  {
   "cell_type": "code",
   "execution_count": null,
   "metadata": {},
   "outputs": [],
   "source": []
  }
 ],
 "metadata": {
  "kernelspec": {
   "display_name": "Python 3 (ipykernel)",
   "language": "python",
   "name": "python3"
  },
  "language_info": {
   "codemirror_mode": {
    "name": "ipython",
    "version": 3
   },
   "file_extension": ".py",
   "mimetype": "text/x-python",
   "name": "python",
   "nbconvert_exporter": "python",
   "pygments_lexer": "ipython3",
   "version": "3.11.10"
  }
 },
 "nbformat": 4,
 "nbformat_minor": 4
}
