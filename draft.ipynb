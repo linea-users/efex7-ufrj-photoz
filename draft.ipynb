{
 "cells": [
  {
   "cell_type": "markdown",
   "metadata": {},
   "source": [
    "\n",
    "<img align=\"left\" src = images/linea.png width=150 style=\"padding: 20px\"> <br> \n",
    " \n",
    "LOGO DO EVENTO | LOGO DA UFRJ | LOGO DO LINEA \n",
    "\n",
    "# Título (nome do evento? ) \n",
    "# Subtítulo (nome da oficina?) \n",
    "\n",
    "\n",
    "Mediadores (?):  \n",
    "- Bruno Moraes (email)\n",
    "- Julia Gschwend (julia@linea.org.br)\n",
    "\n",
    "Última verificação: 11/02/2025\n",
    "\n",
    "***\n"
   ]
  },
  {
   "cell_type": "code",
   "execution_count": null,
   "metadata": {},
   "outputs": [],
   "source": []
  },
  {
   "cell_type": "markdown",
   "metadata": {},
   "source": [
    "## Introdução "
   ]
  },
  {
   "cell_type": "code",
   "execution_count": null,
   "metadata": {},
   "outputs": [],
   "source": []
  },
  {
   "cell_type": "markdown",
   "metadata": {},
   "source": [
    "### Sobre a oficina"
   ]
  },
  {
   "cell_type": "code",
   "execution_count": null,
   "metadata": {},
   "outputs": [],
   "source": []
  },
  {
   "cell_type": "code",
   "execution_count": null,
   "metadata": {},
   "outputs": [],
   "source": []
  },
  {
   "cell_type": "markdown",
   "metadata": {},
   "source": [
    "### Sobre o LIneA "
   ]
  },
  {
   "cell_type": "code",
   "execution_count": null,
   "metadata": {},
   "outputs": [],
   "source": []
  },
  {
   "cell_type": "code",
   "execution_count": null,
   "metadata": {},
   "outputs": [],
   "source": []
  },
  {
   "cell_type": "markdown",
   "metadata": {},
   "source": [
    "## Dados   "
   ]
  },
  {
   "cell_type": "markdown",
   "metadata": {},
   "source": [
    "#### Sobre os dados"
   ]
  },
  {
   "cell_type": "code",
   "execution_count": null,
   "metadata": {},
   "outputs": [],
   "source": []
  },
  {
   "cell_type": "code",
   "execution_count": null,
   "metadata": {},
   "outputs": [],
   "source": []
  },
  {
   "cell_type": "markdown",
   "metadata": {},
   "source": [
    "#### Acesso ao banco de dados"
   ]
  },
  {
   "cell_type": "markdown",
   "metadata": {},
   "source": [
    "Dentro da plataforma LIneA JupyterHub, o acesso ao banco de dados é feito através da biblioteca [dblinea](https://github.com/linea-it/dblinea). Confira a documentação completa da biblioteca [neste link](https://dblinea.readthedocs.io/en/latest/index.html).\n",
    "\n",
    "\n",
    "Instalação da biblioteca `dblinea`: "
   ]
  },
  {
   "cell_type": "code",
   "execution_count": null,
   "metadata": {
    "tags": []
   },
   "outputs": [],
   "source": [
    "! pip install dblinea"
   ]
  },
  {
   "cell_type": "markdown",
   "metadata": {},
   "source": [
    "A classe `DBBase` faz a conexão com o banco de dados e oferece algumas funcionalidades como veremos a seguir. Nos exemplos abaixo, vamos utilizar o objeto `db` para acessar os dados e metadados da tabela  \"**public_pz_training_set**\" do segundo _release_ (**DR2**) do levantamento **DES**. "
   ]
  },
  {
   "cell_type": "code",
   "execution_count": null,
   "metadata": {},
   "outputs": [],
   "source": [
    "from dblinea import DBBase"
   ]
  },
  {
   "cell_type": "code",
   "execution_count": null,
   "metadata": {},
   "outputs": [],
   "source": [
    "db = DBBase()\n",
    "schema = 'des_dr2'  \n",
    "tablename = 'public_pz_training_set' "
   ]
  },
  {
   "cell_type": "code",
   "execution_count": null,
   "metadata": {
    "tags": []
   },
   "outputs": [],
   "source": [
    "db.get_table_columns(tablename, schema=schema)"
   ]
  },
  {
   "cell_type": "code",
   "execution_count": null,
   "metadata": {
    "scrolled": true,
    "tags": []
   },
   "outputs": [],
   "source": [
    "db.describe_table(tablename, schema=schema)"
   ]
  },
  {
   "cell_type": "markdown",
   "metadata": {},
   "source": [
    "A tabela abaixo traz os significados das colunas que vamos utilizar para fazer a consulta no banco de dados. \n",
    "\n",
    "|Coluna | Significado |\n",
    "|---|---|\n",
    "|COADD_OBJECT_ID | Unique identifier for the coadded objects|\n",
    "|RA | Right ascension, with quantized precision for indexing (ALPHAWIN_J2000 has full precision but not indexed) [degrees]|\n",
    "|DEC | Declination, with quantized precision for indexing (DELTAWIN_J2000 has full precision but not indexed) [degrees] |\n",
    "|EXTENDED_CLASS_COADD |0: high confidence stars; 1: candidate stars; 2: mostly galaxies; 3: high confidence galaxies; -9: No data; Using Sextractor photometry |\n",
    "|FLAGS_{G,R,I,Z,Y}| Additive flag describing cautionary advice about source extraction process. Use less than 4 for well behaved objects |\n",
    "|MAG_AUTO_{G,R,I,Z,Y} | Magnitude estimation, for an elliptical model based on the Kron radius [mag] |\n",
    "|MAG_AUTO_{G,R,I,Z,Y}_DERED | Dereddened magnitude estimation (using SFD98), for an elliptical model based on the Kron radius [mag]|\n",
    "\n"
   ]
  },
  {
   "cell_type": "code",
   "execution_count": null,
   "metadata": {},
   "outputs": [],
   "source": []
  },
  {
   "cell_type": "markdown",
   "metadata": {},
   "source": [
    "### Leitura dos dados"
   ]
  },
  {
   "cell_type": "code",
   "execution_count": null,
   "metadata": {},
   "outputs": [],
   "source": [
    "import pandas as pd"
   ]
  },
  {
   "cell_type": "code",
   "execution_count": null,
   "metadata": {},
   "outputs": [],
   "source": []
  },
  {
   "cell_type": "code",
   "execution_count": null,
   "metadata": {},
   "outputs": [],
   "source": [
    "query = f\"SELECT * FROM {schema}.{tablename} WHERE survey = 'VVDS' AND magerr_auto_i <= 0.1 AND z <= 2.0 \"   \n",
    "query"
   ]
  },
  {
   "cell_type": "code",
   "execution_count": null,
   "metadata": {
    "scrolled": true,
    "tags": []
   },
   "outputs": [],
   "source": [
    "df = db.fetchall_df(query)\n",
    "df"
   ]
  },
  {
   "cell_type": "code",
   "execution_count": null,
   "metadata": {},
   "outputs": [],
   "source": [
    "df.info()"
   ]
  },
  {
   "cell_type": "code",
   "execution_count": null,
   "metadata": {},
   "outputs": [],
   "source": [
    "# Shuffle the DataFrame with fixed random_state for reproducibility\n",
    "df_shuffled = df.sample(frac=1, random_state=42) \n",
    "\n",
    "# Determine the split point (for 70/30 split)\n",
    "split_point = int(len(df)*0.7)\n",
    "\n",
    "# Split into two subsets\n",
    "train = df_shuffled.iloc[:split_point]\n",
    "test  = df_shuffled.iloc[split_point:]\n",
    "\n",
    "# Convert subsets to sets of indices\n",
    "train_indices = set(train.index)\n",
    "test_indices = set(test.index)\n",
    "\n",
    "# Find the intersection of the index sets\n",
    "intersection_indices = train_indices.intersection(test_indices)\n",
    "\n",
    "# Assert that the intersection is empty\n",
    "assert not intersection_indices, \"There are common elements in both subsets!\"\n",
    "\n",
    "print(\"Assertion passed! No common elements found in subsets.\")\n",
    "print(\"\\nIntersection of Indices:\", intersection_indices) # Should be an empty set\n",
    "\n",
    "print(len(train))\n",
    "print(len(test))"
   ]
  },
  {
   "cell_type": "code",
   "execution_count": null,
   "metadata": {},
   "outputs": [],
   "source": [
    "train.info()"
   ]
  },
  {
   "cell_type": "code",
   "execution_count": null,
   "metadata": {},
   "outputs": [],
   "source": []
  },
  {
   "cell_type": "code",
   "execution_count": null,
   "metadata": {},
   "outputs": [],
   "source": []
  },
  {
   "cell_type": "code",
   "execution_count": null,
   "metadata": {},
   "outputs": [],
   "source": []
  },
  {
   "cell_type": "markdown",
   "metadata": {},
   "source": [
    "### Caracterização da amostra "
   ]
  },
  {
   "cell_type": "markdown",
   "metadata": {},
   "source": [
    "Nos exemplos abaixo, também vamos usar a biblioteca [Astropy](https://docs.astropy.org/en/stable/). As demais bibliotecas utilizadas já estão disponíveis na instalação original do JupyterHub. \n",
    "\n",
    "Instalação da biblioteca `astropy`: "
   ]
  },
  {
   "cell_type": "code",
   "execution_count": null,
   "metadata": {
    "tags": []
   },
   "outputs": [],
   "source": [
    "! pip install astropy"
   ]
  },
  {
   "cell_type": "code",
   "execution_count": null,
   "metadata": {},
   "outputs": [],
   "source": [
    "import numpy as np\n",
    "from astropy import units as u\n",
    "from astropy.coordinates import SkyCoord"
   ]
  },
  {
   "cell_type": "code",
   "execution_count": null,
   "metadata": {},
   "outputs": [],
   "source": [
    "bibliotecas de visualização "
   ]
  },
  {
   "cell_type": "code",
   "execution_count": null,
   "metadata": {},
   "outputs": [],
   "source": [
    "import matplotlib.pyplot as plt\n",
    "import seaborn as sns"
   ]
  },
  {
   "cell_type": "markdown",
   "metadata": {},
   "source": [
    "--- \n",
    "\n",
    "#### Distribuição espacial \n"
   ]
  },
  {
   "cell_type": "code",
   "execution_count": null,
   "metadata": {},
   "outputs": [],
   "source": [
    "! wget https://raw.githubusercontent.com/kadrlica/skymap/master/skymap/data/des-round19-poly.txt  "
   ]
  },
  {
   "cell_type": "code",
   "execution_count": null,
   "metadata": {},
   "outputs": [],
   "source": [
    "foot_ra, foot_dec = np.loadtxt('des-round19-poly.txt', unpack=True)\n"
   ]
  },
  {
   "cell_type": "code",
   "execution_count": null,
   "metadata": {
    "tags": []
   },
   "outputs": [],
   "source": [
    "coords = SkyCoord(ra=-np.array(df.ra)*u.degree, \n",
    "                  dec=np.array(df.dec)*u.degree, \n",
    "                  frame='icrs')"
   ]
  },
  {
   "cell_type": "code",
   "execution_count": null,
   "metadata": {},
   "outputs": [],
   "source": [
    "%%time\n",
    "fig = plt.figure(figsize=[14,6])\n",
    "ax = fig.add_subplot(111, projection='mollweide')   \n",
    "ra_rad = coords.ra.wrap_at(180 * u.deg).radian\n",
    "dec_rad = coords.dec.radian\n",
    "plt.plot(ra_rad, dec_rad, '.', alpha=0.3)\n",
    "plt.plot(-np.radians(foot_ra), np.radians(foot_dec), '-', color='darkorange')\n",
    "org=0.0\n",
    "tick_labels = np.array([150, 120, 90, 60, 30, 0, 330, 300, 270, 240, 210])\n",
    "tick_labels = np.remainder(tick_labels+360+org,360)\n",
    "ax.set_xticklabels(tick_labels)     # we add the scale on the x axis\n",
    "ax.set_xlabel('R.A.')\n",
    "ax.xaxis.label.set_fontsize(14)\n",
    "ax.set_ylabel('Dec.')\n",
    "ax.yaxis.label.set_fontsize(14)\n",
    "ax.grid(True)\n",
    "plt.tight_layout()\n",
    "#plt.savefig('specz_spatial_dist.png')"
   ]
  },
  {
   "cell_type": "markdown",
   "metadata": {},
   "source": [
    "#### Distribuição de redshifts"
   ]
  },
  {
   "cell_type": "code",
   "execution_count": null,
   "metadata": {},
   "outputs": [],
   "source": [
    "fig = plt.figure()\n",
    "sns.histplot(df['mag_auto_i_dered'], stat='density', bins=30)\n",
    "sns.kdeplot(df['mag_auto_i_dered'], fill=False, color='red')\n",
    "plt.tight_layout()"
   ]
  },
  {
   "cell_type": "code",
   "execution_count": null,
   "metadata": {},
   "outputs": [],
   "source": [
    "fig = plt.figure(figsize=[10,4])\n",
    "plt.subplot(1,2,1)\n",
    "sns.histplot(train['z'], stat='density', bins=30, label='training set')\n",
    "sns.histplot(test['z'], stat='density', bins=30, label='test set')\n",
    "plt.legend()\n",
    "plt.subplot(1,2,2)\n",
    "sns.histplot(train['z'], stat='count', bins=30, label='training set')\n",
    "sns.histplot(test['z'], stat='count', bins=30, label='test set')\n",
    "plt.tight_layout()"
   ]
  },
  {
   "cell_type": "markdown",
   "metadata": {},
   "source": [
    "#### Distribuição de magnitudes"
   ]
  },
  {
   "cell_type": "code",
   "execution_count": null,
   "metadata": {},
   "outputs": [],
   "source": [
    "fig = plt.figure(figsize=[10,4])\n",
    "plt.subplot(1,2,1)\n",
    "sns.histplot(train['mag_auto_i_dered'], stat='density', bins=30, label='training set')\n",
    "sns.histplot(test['mag_auto_i_dered'], stat='density', bins=30, label='test set')\n",
    "plt.legend()\n",
    "plt.subplot(1,2,2)\n",
    "sns.histplot(train['mag_auto_i_dered'], stat='count', bins=30, label='training set')\n",
    "sns.histplot(test['mag_auto_i_dered'], stat='count', bins=30, label='test set')\n",
    "plt.tight_layout()"
   ]
  },
  {
   "cell_type": "markdown",
   "metadata": {},
   "source": [
    "#### Diagramas cor-cor, cor-mag, z-mag"
   ]
  },
  {
   "cell_type": "code",
   "execution_count": null,
   "metadata": {},
   "outputs": [],
   "source": [
    "fig = plt.figure()\n",
    "rmi = train[]\n",
    "sns.scatterplot(data=train, x='mag_auto_i_dered', y=')\n",
    "sns.scatterplot(data=test, x='z', y='mag_auto_i_dered')\n",
    "plt.tight_layout()"
   ]
  },
  {
   "cell_type": "code",
   "execution_count": null,
   "metadata": {},
   "outputs": [],
   "source": [
    "fig = plt.figure()\n",
    "sns.scatterplot(data=train, x='z', y='mag_auto_i_dered')\n",
    "sns.scatterplot(data=test, x='z', y='mag_auto_i_dered')\n",
    "plt.tight_layout()"
   ]
  },
  {
   "cell_type": "code",
   "execution_count": null,
   "metadata": {},
   "outputs": [],
   "source": []
  },
  {
   "cell_type": "markdown",
   "metadata": {},
   "source": [
    "## Photo-z"
   ]
  },
  {
   "cell_type": "code",
   "execution_count": null,
   "metadata": {},
   "outputs": [],
   "source": []
  },
  {
   "cell_type": "code",
   "execution_count": null,
   "metadata": {},
   "outputs": [],
   "source": []
  },
  {
   "cell_type": "code",
   "execution_count": null,
   "metadata": {},
   "outputs": [],
   "source": []
  }
 ],
 "metadata": {
  "kernelspec": {
   "display_name": "Python 3 (ipykernel)",
   "language": "python",
   "name": "python3"
  },
  "language_info": {
   "codemirror_mode": {
    "name": "ipython",
    "version": 3
   },
   "file_extension": ".py",
   "mimetype": "text/x-python",
   "name": "python",
   "nbconvert_exporter": "python",
   "pygments_lexer": "ipython3",
   "version": "3.11.10"
  }
 },
 "nbformat": 4,
 "nbformat_minor": 4
}
